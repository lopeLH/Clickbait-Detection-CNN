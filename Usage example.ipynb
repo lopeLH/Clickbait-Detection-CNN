{
 "cells": [
  {
   "cell_type": "code",
   "execution_count": 1,
   "metadata": {
    "ExecuteTime": {
     "end_time": "2019-01-16T12:21:51.697000+01:00",
     "start_time": "2019-01-16T12:21:41.205000"
    }
   },
   "outputs": [
    {
     "name": "stderr",
     "output_type": "stream",
     "text": [
      "Using Theano backend.\n",
      "C:\\Users\\Lope\\Anaconda2\\lib\\site-packages\\keras\\models.py:251: UserWarning: No training configuration found in save file: the model was *not* compiled. Compile it manually.\n",
      "  warnings.warn('No training configuration found in save file: '\n"
     ]
    }
   ],
   "source": [
    "from keras.models import  load_model\n",
    "\n",
    "cnn = load_model(\"trained_CNN_model\")"
   ]
  },
  {
   "cell_type": "code",
   "execution_count": 2,
   "metadata": {
    "ExecuteTime": {
     "end_time": "2019-01-16T12:21:52.561000+01:00",
     "start_time": "2019-01-16T12:21:51.698000"
    }
   },
   "outputs": [],
   "source": [
    "from joblib import load\n",
    "\n",
    "knn = load(\"trained_knn_model\")"
   ]
  },
  {
   "cell_type": "code",
   "execution_count": 3,
   "metadata": {
    "ExecuteTime": {
     "end_time": "2019-01-16T12:22:37.557000+01:00",
     "start_time": "2019-01-16T12:21:52.562000"
    }
   },
   "outputs": [],
   "source": [
    "from gensim.models import Word2Vec\n",
    "import numpy as np\n",
    "import re\n",
    "\n",
    "w2v = Word2Vec.load_word2vec_format('GoogleNews-vectors-negative300.bin', binary=True) \n",
    "\n",
    "def stringToEmbedding(text, embedding_model, length=25):\n",
    "    sequence = []\n",
    "    words = 0\n",
    "    \n",
    "    text = re.sub('[!¡@#$€¿?.,;:123456789()]', '', text)\n",
    "        \n",
    "    for word in text.split(\" \"):\n",
    "        if words >= length:\n",
    "            break\n",
    "        try:\n",
    "            sequence.append(embedding_model[word])\n",
    "            words += 1\n",
    "        except:\n",
    "            #print \"Not able to process: \"+word\n",
    "            if word != \" \" and word != \"\\n\" and word != \"\":\n",
    "                sequence.append(embedding_model[\"algo\"])\n",
    "                words += 1\n",
    "    \n",
    "    for i in range(length-words):\n",
    "        sequence.append(np.zeros(300))\n",
    "                \n",
    "    return np.asarray(sequence)"
   ]
  },
  {
   "cell_type": "markdown",
   "metadata": {},
   "source": [
    "#### Class labels are:\n",
    "    Clickbait: 1\n",
    "    Legitimate Headline: 0"
   ]
  },
  {
   "cell_type": "code",
   "execution_count": 4,
   "metadata": {
    "ExecuteTime": {
     "end_time": "2019-01-16T12:22:38.114000+01:00",
     "start_time": "2019-01-16T12:22:37.558000"
    }
   },
   "outputs": [
    {
     "name": "stdout",
     "output_type": "stream",
     "text": [
      "[1]\n"
     ]
    }
   ],
   "source": [
    "rep = cnn.predict(np.asarray([stringToEmbedding(\"16 Deeply Satisfying German Insults\", w2v)]))\n",
    "print knn.predict(rep)"
   ]
  },
  {
   "cell_type": "code",
   "execution_count": 5,
   "metadata": {
    "ExecuteTime": {
     "end_time": "2019-01-16T12:22:38.119000+01:00",
     "start_time": "2019-01-16T12:22:38.115000"
    }
   },
   "outputs": [
    {
     "name": "stdout",
     "output_type": "stream",
     "text": [
      "[0]\n"
     ]
    }
   ],
   "source": [
    "rep = cnn.predict(np.asarray([stringToEmbedding(\"Ford Reaches Tentative Deal With Union in Canada\", w2v)]))\n",
    "print knn.predict(rep)"
   ]
  },
  {
   "cell_type": "markdown",
   "metadata": {},
   "source": [
    "## Test the model with some headlines extracted from Buzzfeed and the NYT\n",
    "\n",
    "As we can see, all these Buzzfeed headlines are correctly classified as clickbaits by the model. Regarding NYT headlines, some of the most informal headlines, especially those regarding movie reviews, are considered as clickbaits by the model. This illustrates the subjetive nature of clickbaits, and supports the need for clickbait detection models which can adapt themselves to users' preferences. Formal and informative headlines are generaly marked as non-clickbaits by the model."
   ]
  },
  {
   "cell_type": "code",
   "execution_count": 12,
   "metadata": {
    "ExecuteTime": {
     "end_time": "2019-01-16T12:26:17.142000+01:00",
     "start_time": "2019-01-16T12:26:17.133000"
    },
    "code_folding": [
     0
    ],
    "collapsed": true
   },
   "outputs": [],
   "source": [
    "Buzzfeed_Headlines = [  \"Which Potato Food Are You?\",\n",
    "                \"21 Tweets That Are Just Too Funny If You're The Only Queer Person In The Family\",\n",
    "                \"35 Things From 2007 You Would Never Do Today\",\n",
    "                \"Are You Warm-Hearted Or A Cold, Hard Bitch?\",\n",
    "                \"33 Twitter Jokes That Are Just Very, Very Funny\",\n",
    "                \"23 Jokes You'll Only Get If You're Poor\",\n",
    "                \"People Are Loving This Hilarious Low-Budget Animal Shelter Commercial\",\n",
    "                \"19 Perfect And Strangely Accurate Jokes About Zodiacs\",\n",
    "                \"21 Times James Corden Was The Gift We Don't Deserve\",\n",
    "                \"19 Tweets About 'The Office' That Will Make You Laugh, Then Cry\",\n",
    "                \"The Rest Of The World Thinks This Is What 'American Food' Is And It's Kind Of Crazy\",\n",
    "                \"22 Jokes From 'The Simpsons' That Totally Went Over Your Head As A Kid\",\n",
    "                \"19 Questions I Have For The Little Mermaid As An Adult\",\n",
    "                \"How Shit Is Your Vision Compared To Everyone Else's?\",\n",
    "                \"For Andrew Garfield's 29th Birthday He Got High At Disneyland With Emma Stone And Friends\",\n",
    "                \"19 Pictures That Prove Cats Truly Don't Give A Fuck\",\n",
    "                \"Snoop Dogg Bought Willie Nelson The Cutest Sweater Like I Can't\",\n",
    "                \"22 Jokes Only People Who Like Self-Deprecating Humour Will Appreciate\",\n",
    "                \"21 People Who Should Be Fired Immediately\",\n",
    "                \"26 British Food Quirks That Brits Don't Realise Are Weird\",\n",
    "                \"This Picture Of Mariah Carey Leaving A Weed Dispensary Is Truly Ridiculous And Amazing\",\n",
    "                \"29 More Of The Gayest Pictures Of LGBT People As Kids\",\n",
    "                \"19 Anti-Memes For People Who Have Evolved Past Memes\",\n",
    "                \"You Need To See This Meme That Turns Jersey Shore Scenes Into Movies\",\n",
    "                \"We Can Accurately Predict If You'll Get Engaged In 2017\"]\n",
    "\n",
    "NYT_Headlines= [  \"Glaxo’s Fallout in China\",\n",
    "                        \"City Unveils Possible Routes for Streetcar in Brooklyn and Queens\",\n",
    "                        \"Donald Trump’s Math Takes His Towers to Greater Heights\",\n",
    "                        \"Americans Blame Obesity on Willpower, Despite Evidence It’s Genetic\",\n",
    "                        \"David H. Brooks, 61, Dies Serving Time for Insider Trading\",\n",
    "                        \"Asserting a Muslim Fashion Identity\",\n",
    "                        \"Pakistani Opposition Leader, Imran Khan, Calls Off Protest\",\n",
    "                        \"Obamas Have Fun With Trick-or-Treaters\",\n",
    "                        \"YouTube Agrees to Pay Royalties, Ending German Music Dispute\",\n",
    "                        \"FilmStruck Streaming Service Places a Big Bet on Cinephiles\",\n",
    "                        \"Federal Judge Blocks Racial Discrimination Suit Against Airbnb\",\n",
    "                        \"Court Opinion in Airbnb Case\",\n",
    "                        \"Clinton, Trump, Mosul: Your Tuesday Evening Briefing\",\n",
    "                        \"Review: In 'Sagittarius Ponderosa' New Self Confronts Old\",\n",
    "                        \"South Africa’s Rising Art Star Builds His New Stage in Chicago\",\n",
    "                        \"Mosul, Clinton, Pakistan: Your Wednesday Briefing\",\n",
    "                        \"There Are Many Ways to Map Election Results. We’ve Tried Most of Them.\",\n",
    "                        \"In Ukraine, Not Even the Top Banker Trusts the Banks\",\n",
    "                        \"Review: ‘Don’t Call Me Son’ Considers Identity and Fluidity\",\n",
    "                        \"Review: In ‘The Eagle Huntress,’ a Girl From Mongolia Soars\",\n",
    "                        \"In the Rubble of an Airstrike in Yemen\",\n",
    "                        \"Standard Chartered Faces Inquiry Into Hong Kong Stock Sale\",\n",
    "                        \"What You Should Watch Tuesday Night\",\n",
    "                        \"Review: Marina Abramovic's 'Walk Through Walls' a Memoir of Masochism and Pretension\",\n",
    "                        \"Clinton-Connected Consulting Firm Sues Republican Strategist Ed Rollins\",\n",
    "                        \"As U.S. Election Approaches Its Climax, Ask a Question\"]"
   ]
  },
  {
   "cell_type": "code",
   "execution_count": 13,
   "metadata": {
    "ExecuteTime": {
     "end_time": "2019-01-16T12:26:17.848000+01:00",
     "start_time": "2019-01-16T12:26:17.773000"
    }
   },
   "outputs": [
    {
     "name": "stdout",
     "output_type": "stream",
     "text": [
      "[1] Which Potato Food Are You?\n",
      "[1] 21 Tweets That Are Just Too Funny If You're The Only Queer Person In The Family\n",
      "[1] 35 Things From 2007 You Would Never Do Today\n",
      "[1] Are You Warm-Hearted Or A Cold, Hard Bitch?\n",
      "[1] 33 Twitter Jokes That Are Just Very, Very Funny\n",
      "[1] 23 Jokes You'll Only Get If You're Poor\n",
      "[1] People Are Loving This Hilarious Low-Budget Animal Shelter Commercial\n",
      "[1] 19 Perfect And Strangely Accurate Jokes About Zodiacs\n",
      "[1] 21 Times James Corden Was The Gift We Don't Deserve\n",
      "[1] 19 Tweets About 'The Office' That Will Make You Laugh, Then Cry\n",
      "[1] The Rest Of The World Thinks This Is What 'American Food' Is And It's Kind Of Crazy\n",
      "[1] 22 Jokes From 'The Simpsons' That Totally Went Over Your Head As A Kid\n",
      "[1] 19 Questions I Have For The Little Mermaid As An Adult\n",
      "[1] How Shit Is Your Vision Compared To Everyone Else's?\n",
      "[1] For Andrew Garfield's 29th Birthday He Got High At Disneyland With Emma Stone And Friends\n",
      "[1] 19 Pictures That Prove Cats Truly Don't Give A Fuck\n",
      "[1] Snoop Dogg Bought Willie Nelson The Cutest Sweater Like I Can't\n",
      "[1] 22 Jokes Only People Who Like Self-Deprecating Humour Will Appreciate\n",
      "[1] 21 People Who Should Be Fired Immediately\n",
      "[1] 26 British Food Quirks That Brits Don't Realise Are Weird\n",
      "[1] This Picture Of Mariah Carey Leaving A Weed Dispensary Is Truly Ridiculous And Amazing\n",
      "[1] 29 More Of The Gayest Pictures Of LGBT People As Kids\n",
      "[1] 19 Anti-Memes For People Who Have Evolved Past Memes\n",
      "[1] You Need To See This Meme That Turns Jersey Shore Scenes Into Movies\n",
      "[1] We Can Accurately Predict If You'll Get Engaged In 2017\n",
      "____________\n",
      "\n",
      "[0] Glaxo’s Fallout in China\n",
      "[0] City Unveils Possible Routes for Streetcar in Brooklyn and Queens\n",
      "[0] Donald Trump’s Math Takes His Towers to Greater Heights\n",
      "[0] Americans Blame Obesity on Willpower, Despite Evidence It’s Genetic\n",
      "[0] David H. Brooks, 61, Dies Serving Time for Insider Trading\n",
      "[0] Asserting a Muslim Fashion Identity\n",
      "[0] Pakistani Opposition Leader, Imran Khan, Calls Off Protest\n",
      "[0] Obamas Have Fun With Trick-or-Treaters\n",
      "[0] YouTube Agrees to Pay Royalties, Ending German Music Dispute\n",
      "[0] FilmStruck Streaming Service Places a Big Bet on Cinephiles\n",
      "[0] Federal Judge Blocks Racial Discrimination Suit Against Airbnb\n",
      "[0] Court Opinion in Airbnb Case\n",
      "[0] Clinton, Trump, Mosul: Your Tuesday Evening Briefing\n",
      "[1] Review: In 'Sagittarius Ponderosa' New Self Confronts Old\n",
      "[0] South Africa’s Rising Art Star Builds His New Stage in Chicago\n",
      "[0] Mosul, Clinton, Pakistan: Your Wednesday Briefing\n",
      "[1] There Are Many Ways to Map Election Results. We’ve Tried Most of Them.\n",
      "[0] In Ukraine, Not Even the Top Banker Trusts the Banks\n",
      "[1] Review: ‘Don’t Call Me Son’ Considers Identity and Fluidity\n",
      "[1] Review: In ‘The Eagle Huntress,’ a Girl From Mongolia Soars\n",
      "[0] In the Rubble of an Airstrike in Yemen\n",
      "[0] Standard Chartered Faces Inquiry Into Hong Kong Stock Sale\n",
      "[1] What You Should Watch Tuesday Night\n",
      "[1] Review: Marina Abramovic's 'Walk Through Walls' a Memoir of Masochism and Pretension\n",
      "[0] Clinton-Connected Consulting Firm Sues Republican Strategist Ed Rollins\n",
      "[0] As U.S. Election Approaches Its Climax, Ask a Question\n"
     ]
    }
   ],
   "source": [
    "for headline in Buzzfeed_Headlines:\n",
    "\n",
    "    rep = cnn.predict(np.asarray([stringToEmbedding(headline, w2v)]))\n",
    "    print  knn.predict(rep), headline\n",
    "    \n",
    "print \"____________\\n\"    \n",
    "\n",
    "for headline in NYT_Headlines:\n",
    "\n",
    "    rep = cnn.predict(np.asarray([stringToEmbedding(headline, w2v)]))\n",
    "    print  knn.predict(rep), headline"
   ]
  },
  {
   "cell_type": "code",
   "execution_count": null,
   "metadata": {
    "collapsed": true
   },
   "outputs": [],
   "source": []
  }
 ],
 "metadata": {
  "kernelspec": {
   "display_name": "Python 2",
   "language": "python",
   "name": "python2"
  },
  "language_info": {
   "codemirror_mode": {
    "name": "ipython",
    "version": 2
   },
   "file_extension": ".py",
   "mimetype": "text/x-python",
   "name": "python",
   "nbconvert_exporter": "python",
   "pygments_lexer": "ipython2",
   "version": "2.7.11"
  }
 },
 "nbformat": 4,
 "nbformat_minor": 2
}
